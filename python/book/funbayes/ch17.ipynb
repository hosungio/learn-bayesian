{
 "cells": [
  {
   "cell_type": "code",
   "execution_count": 8,
   "metadata": {},
   "outputs": [],
   "source": [
    "# 참고"
   ]
  },
  {
   "cell_type": "code",
   "execution_count": 1,
   "metadata": {},
   "outputs": [],
   "source": [
    "import numpy as np\n",
    "import matplotlib.pyplot as plt"
   ]
  },
  {
   "cell_type": "code",
   "execution_count": 2,
   "metadata": {},
   "outputs": [
    {
     "name": "stdout",
     "output_type": "stream",
     "text": [
      "BF: 1024.0\n"
     ]
    }
   ],
   "source": [
    "# 1\n",
    "likelihood1 = 1\n",
    "likelihood2 = (1/2) ** 10\n",
    "bayes_fator = likelihood1 / likelihood2\n",
    "print(\"BF:\", bayes_fator)"
   ]
  },
  {
   "cell_type": "code",
   "execution_count": 4,
   "metadata": {},
   "outputs": [
    {
     "name": "stdout",
     "output_type": "stream",
     "text": [
      "case 1: 10.24\n",
      "case 2: 1.024\n",
      "case 3: 0.1024\n"
     ]
    }
   ],
   "source": [
    "# 2\n",
    "prior_odds = [1/100, 1/1000, 1/10000]\n",
    "for i, po in enumerate(prior_odds):\n",
    "    print(f\"case {i + 1}: {po * bayes_fator}\")"
   ]
  },
  {
   "cell_type": "code",
   "execution_count": 8,
   "metadata": {},
   "outputs": [
    {
     "name": "stdout",
     "output_type": "stream",
     "text": [
      "n_trials: 14\n"
     ]
    }
   ],
   "source": [
    "# 3\n",
    "prior_odds = 1/10000\n",
    "posterior_odds = 0\n",
    "n_trials = 0\n",
    "while posterior_odds <= 1:\n",
    "    n_trials += 1\n",
    "    bayes_fator = 1 / ((1/2) ** n_trials)\n",
    "    posterior_odds = prior_odds * bayes_fator\n",
    "    # print(n_trials, posterior_odds)\n",
    "print(\"n_trials:\", n_trials)"
   ]
  },
  {
   "cell_type": "code",
   "execution_count": 12,
   "metadata": {},
   "outputs": [
    {
     "name": "stdout",
     "output_type": "stream",
     "text": [
      "prior_odds: 6.25\n"
     ]
    },
    {
     "data": {
      "text/plain": [
       "(100, 100.0)"
      ]
     },
     "execution_count": 12,
     "metadata": {},
     "output_type": "execute_result"
    }
   ],
   "source": [
    "# 4\n",
    "bayes_fator = 1 / (0.5 ** 4)\n",
    "posterior_odds = 100\n",
    "# prior_odds * bayes_fator = 100\n",
    "prior_odds = 100 / bayes_fator\n",
    "print(\"prior_odds:\", prior_odds)\n",
    "posterior_odds2 =  prior_odds * bayes_fator\n",
    "posterior_odds, posterior_odds2"
   ]
  },
  {
   "cell_type": "code",
   "execution_count": null,
   "metadata": {},
   "outputs": [],
   "source": []
  }
 ],
 "metadata": {
  "interpreter": {
   "hash": "9be8b11156a6c10e33c419d9d0d0602773fc3663771486e0ec4a7a50e79daf58"
  },
  "kernelspec": {
   "display_name": "Python 3.9.15 ('learn-bayesian')",
   "language": "python",
   "name": "python3"
  },
  "language_info": {
   "codemirror_mode": {
    "name": "ipython",
    "version": 3
   },
   "file_extension": ".py",
   "mimetype": "text/x-python",
   "name": "python",
   "nbconvert_exporter": "python",
   "pygments_lexer": "ipython3",
   "version": "3.9.15"
  },
  "orig_nbformat": 4
 },
 "nbformat": 4,
 "nbformat_minor": 2
}
