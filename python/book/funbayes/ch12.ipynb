{
 "cells": [
  {
   "cell_type": "code",
   "execution_count": 1,
   "metadata": {},
   "outputs": [],
   "source": [
    "# 참고자료"
   ]
  },
  {
   "cell_type": "code",
   "execution_count": 2,
   "metadata": {},
   "outputs": [],
   "source": [
    "from scipy.stats import norm\n",
    "import numpy as np\n",
    "import matplotlib.pyplot as plt"
   ]
  },
  {
   "cell_type": "code",
   "execution_count": 7,
   "metadata": {},
   "outputs": [
    {
     "data": {
      "text/plain": [
       "0.9457463050046133"
      ]
     },
     "execution_count": 7,
     "metadata": {},
     "output_type": "execute_result"
    }
   ],
   "source": [
    "mu = 20.6\n",
    "sigma = 1.62\n",
    "norm1 = norm(loc=mu, scale=sigma)\n",
    "1 - norm1.cdf(x=18)"
   ]
  },
  {
   "cell_type": "code",
   "execution_count": 10,
   "metadata": {},
   "outputs": [
    {
     "name": "stdout",
     "output_type": "stream",
     "text": [
      "평균보다 5 시그마 이상 큰 값을 관찰할 확률: 2.866515719235352e-07\n"
     ]
    }
   ],
   "source": [
    "# 1\n",
    "prob = 1 - norm().cdf(5*1)\n",
    "print(\"평균보다 5 시그마 이상 큰 값을 관찰할 확률:\", prob)"
   ]
  },
  {
   "cell_type": "code",
   "execution_count": 11,
   "metadata": {},
   "outputs": [
    {
     "name": "stdout",
     "output_type": "stream",
     "text": [
      "환자가 열이 있을 확률: 0.3402820504876537\n"
     ]
    }
   ],
   "source": [
    "# 2\n",
    "data = np.array([100.0, 99.8, 101.0, 100.5, 99.7])\n",
    "norm1 = norm(loc=data.mean(), scale=data.std())\n",
    "prob = 1 - norm1.cdf(100.4)\n",
    "print(\"환자가 열이 있을 확률:\", prob)"
   ]
  },
  {
   "cell_type": "code",
   "execution_count": 16,
   "metadata": {},
   "outputs": [
    {
     "name": "stdout",
     "output_type": "stream",
     "text": [
      "[30.625 44.1   60.025 78.4   19.6  ]\n",
      "우물의 깊이가 500미터 이상일 확률: 0.0\n",
      "우물이 없을(우물의 깊이가 0미터 이하일) 확률: 0.012928081087338412\n"
     ]
    }
   ],
   "source": [
    "# 3, 4\n",
    "elapseds = np.array([2.5, 3, 3.5, 4, 2])\n",
    "distances = (1/2) * 9.8 * (elapseds ** 2)\n",
    "print(distances)\n",
    "norm1 = norm(loc=distances.mean(), scale=distances.std())\n",
    "prob = 1 - norm1.cdf(500)\n",
    "print(\"우물의 깊이가 500미터 이상일 확률:\", prob)\n",
    "prob = norm1.cdf(0)\n",
    "print(\"우물이 없을(우물의 깊이가 0미터 이하일) 확률:\", prob)"
   ]
  },
  {
   "cell_type": "code",
   "execution_count": null,
   "metadata": {},
   "outputs": [],
   "source": []
  }
 ],
 "metadata": {
  "interpreter": {
   "hash": "9be8b11156a6c10e33c419d9d0d0602773fc3663771486e0ec4a7a50e79daf58"
  },
  "kernelspec": {
   "display_name": "Python 3.9.15 ('learn-bayesian')",
   "language": "python",
   "name": "python3"
  },
  "language_info": {
   "codemirror_mode": {
    "name": "ipython",
    "version": 3
   },
   "file_extension": ".py",
   "mimetype": "text/x-python",
   "name": "python",
   "nbconvert_exporter": "python",
   "pygments_lexer": "ipython3",
   "version": "3.9.15"
  },
  "orig_nbformat": 4
 },
 "nbformat": 4,
 "nbformat_minor": 2
}
