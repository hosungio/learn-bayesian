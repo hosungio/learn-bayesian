{
 "cells": [
  {
   "cell_type": "code",
   "execution_count": null,
   "metadata": {},
   "outputs": [],
   "source": [
    "# 참고자료\n",
    "# https://ko.wikipedia.org/wiki/%EC%9D%B4%ED%95%AD_%EB%B6%84%ED%8F%AC\n"
   ]
  },
  {
   "cell_type": "code",
   "execution_count": 2,
   "metadata": {},
   "outputs": [],
   "source": [
    "from scipy.stats import binom\n",
    "import numpy as np\n",
    "import matplotlib.pyplot as plt\n"
   ]
  },
  {
   "cell_type": "code",
   "execution_count": 17,
   "metadata": {},
   "outputs": [],
   "source": [
    "# 연속된 n번의 독립적 시행에서 각 시행이 확률 p를 가질 때의 이산확률분포.\n",
    "# 베르누이 시행이라고 불리기도 한다. n=1이면 이항분포는 베르누이 분포이다.\n",
    "\n",
    "# 확률변수 K가 매개변수 n과 p를 가지는 이항분포를 따른다면, K~B(n,p)라고 쓴다.\n",
    "# n번 시행 중에 k번 성공할 확률은 이항분포의 확률질량함수로 알 수 있다.\n",
    "\n",
    "# k: 관심있는 결과의 수\n",
    "# n: 시행 횟수\n",
    "# p: 사건이 발생할 확률\n",
    "# B(k; n, p)\n"
   ]
  },
  {
   "cell_type": "code",
   "execution_count": 19,
   "metadata": {},
   "outputs": [
    {
     "name": "stdout",
     "output_type": "stream",
     "text": [
      "0.5145138452542946\n"
     ]
    }
   ],
   "source": [
    "# 베이지안 베틀러 게임\n",
    "# 한 개의 카드를 가져오려면 1개의 베이즈 벅스가 필요.\n",
    "# 이 게임에서 사용할 수 있는 최대금액은 10달러, 100개의 베이즈 벅스를 10달러에 살 수 있음\n",
    "# E.T. 제인스 카드가 뽑힐 확률은 0.00720임.\n",
    "# 100개의 베이즈 벅스로 E.T. 제인스 카드를 뽑을 가능성이 얼마나 될까?\n",
    "k = list(range(1, 101))  # E.T. 제인스 카드를 1개 이상 뽑으면 됨.\n",
    "n = 100  # 전체 시행 횟수.\n",
    "p = 0.0072  # E.T. 제인스 카드가 뽑힐 확률\n",
    "probs = binom.pmf(k=k, n=n, p=p)\n",
    "print(probs.sum())\n",
    "# _ = plt.plot(k, probs)\n"
   ]
  },
  {
   "cell_type": "code",
   "execution_count": 23,
   "metadata": {},
   "outputs": [
    {
     "name": "stdout",
     "output_type": "stream",
     "text": [
      "0.4232832000000001\n"
     ]
    }
   ],
   "source": [
    "# 취업 제안을 받을 확률이 1/5이고, 한 달에 7개의 회사를 인터뷰하는 경우, \n",
    "# 1개월에 적어도 2개의 취업 제안을 받을 확률\n",
    "k = np.arange(start=2, stop=8)\n",
    "n = 7\n",
    "p = 1 / 5\n",
    "probs = binom.pmf(k=k, n=n, p=p)\n",
    "print(probs.sum())\n"
   ]
  },
  {
   "cell_type": "code",
   "execution_count": 28,
   "metadata": {},
   "outputs": [
    {
     "name": "stdout",
     "output_type": "stream",
     "text": [
      "1.7217647512082532\n"
     ]
    }
   ],
   "source": [
    "# 25개 회사의 인터뷰를 하게 되면 취업 제안을 받을 확률이 1/10으로 낮아짐.\n",
    "# 적어도 2개의 취업 제안을 받을 가능성이 두 배 이상 높지 않다면 이 많은 인터뷰에 참여하고 싶지 않다.\n",
    "# 25개의 인터뷰를 하러 가는 것과 7회만 하는 것 중에서 어느 쪽으로 결정하는 것이 좋을까?\n",
    "k7 = np.arange(start=2, stop=8)\n",
    "n7 = 7\n",
    "p7 = 1 / 5\n",
    "probs7 = binom.pmf(k=k7, n=n7, p=p7)\n",
    "#\n",
    "k25 = np.arange(start=2, stop=26)\n",
    "n25 = 25\n",
    "p25 = 1 / 10\n",
    "probs25 = binom.pmf(k=k25, n=n25, p=p25)\n",
    "#\n",
    "odds = probs25.sum() / probs7.sum()\n",
    "print(odds)\n"
   ]
  },
  {
   "cell_type": "code",
   "execution_count": null,
   "metadata": {},
   "outputs": [],
   "source": []
  }
 ],
 "metadata": {
  "interpreter": {
   "hash": "9be8b11156a6c10e33c419d9d0d0602773fc3663771486e0ec4a7a50e79daf58"
  },
  "kernelspec": {
   "display_name": "Python 3.9.15 ('learn-bayesian')",
   "language": "python",
   "name": "python3"
  },
  "language_info": {
   "codemirror_mode": {
    "name": "ipython",
    "version": 3
   },
   "file_extension": ".py",
   "mimetype": "text/x-python",
   "name": "python",
   "nbconvert_exporter": "python",
   "pygments_lexer": "ipython3",
   "version": "3.9.15"
  },
  "orig_nbformat": 4
 },
 "nbformat": 4,
 "nbformat_minor": 2
}
