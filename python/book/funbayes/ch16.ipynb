{
 "cells": [
  {
   "cell_type": "code",
   "execution_count": 8,
   "metadata": {},
   "outputs": [],
   "source": [
    "# 참고"
   ]
  },
  {
   "cell_type": "code",
   "execution_count": 9,
   "metadata": {},
   "outputs": [],
   "source": [
    "import numpy as np\n",
    "import matplotlib.pyplot as plt"
   ]
  },
  {
   "cell_type": "code",
   "execution_count": 15,
   "metadata": {},
   "outputs": [
    {
     "name": "stdout",
     "output_type": "stream",
     "text": [
      "BF: 3.7791359999999994\n",
      "posterior_odds: 1.8895679999999997\n"
     ]
    }
   ],
   "source": [
    "# 6인지 아닌지로 likelihood 계산.\n",
    "likelihood1 = (0.5**4) * (0.5**6)\n",
    "likelihood2 = ((1/6)**4) * ((5/6)**6)\n",
    "bayes_factor = likelihood1 / likelihood2\n",
    "print(\"BF:\", bayes_factor)\n",
    "# 각 숫자가 나올지로 likelihood 계산. bayes factor가 같음.\n",
    "# likelihood1 = (0.5**4) * (0.1**6)\n",
    "# likelihood2 = (1/6)**10\n",
    "# bayes_factor = likelihood1 / likelihood2\n",
    "# print(\"BF:\", bayes_factor)\n",
    "prior1 = 1/3\n",
    "prior2 = 2/3\n",
    "prior_odds = prior1 / prior2\n",
    "posterior_odds = prior_odds * bayes_factor\n",
    "print(\"posterior_odds:\", posterior_odds)"
   ]
  },
  {
   "cell_type": "code",
   "execution_count": 16,
   "metadata": {},
   "outputs": [
    {
     "name": "stdout",
     "output_type": "stream",
     "text": [
      "BF: 3.7791359999999994\n",
      "posterior_odds: 7.558271999999999\n"
     ]
    }
   ],
   "source": [
    "# 1\n",
    "# 6인지 아닌지로 likelihood 계산.\n",
    "likelihood1 = (0.5**4) * (0.5**6)\n",
    "likelihood2 = ((1/6)**4) * ((5/6)**6)\n",
    "bayes_factor = likelihood1 / likelihood2\n",
    "print(\"BF:\", bayes_factor)\n",
    "prior1 = 2/3\n",
    "prior2 = 1/3\n",
    "prior_odds = prior1 / prior2\n",
    "posterior_odds = prior_odds * bayes_factor\n",
    "print(\"posterior_odds:\", posterior_odds)"
   ]
  },
  {
   "cell_type": "code",
   "execution_count": 17,
   "metadata": {},
   "outputs": [
    {
     "name": "stdout",
     "output_type": "stream",
     "text": [
      "BF: 0.21532940271725204\n",
      "posterior_odds: 0.6851390086458019\n"
     ]
    }
   ],
   "source": [
    "# 2\n",
    "likelihood1 = 0.98 * 0.3 * 0.28\n",
    "likelihood2 = 0.49 * 0.94 * 0.83\n",
    "bayes_factor = likelihood1 / likelihood2\n",
    "print(\"BF:\", bayes_factor)\n",
    "prior1 = 35/1000000\n",
    "prior2 = 11/1000000\n",
    "prior_odds = prior1 / prior2\n",
    "posterior_odds = prior_odds * bayes_factor\n",
    "print(\"posterior_odds:\", posterior_odds)"
   ]
  },
  {
   "cell_type": "code",
   "execution_count": null,
   "metadata": {},
   "outputs": [],
   "source": []
  }
 ],
 "metadata": {
  "interpreter": {
   "hash": "9be8b11156a6c10e33c419d9d0d0602773fc3663771486e0ec4a7a50e79daf58"
  },
  "kernelspec": {
   "display_name": "Python 3.9.15 ('learn-bayesian')",
   "language": "python",
   "name": "python3"
  },
  "language_info": {
   "codemirror_mode": {
    "name": "ipython",
    "version": 3
   },
   "file_extension": ".py",
   "mimetype": "text/x-python",
   "name": "python",
   "nbconvert_exporter": "python",
   "pygments_lexer": "ipython3",
   "version": "3.9.15"
  },
  "orig_nbformat": 4
 },
 "nbformat": 4,
 "nbformat_minor": 2
}
