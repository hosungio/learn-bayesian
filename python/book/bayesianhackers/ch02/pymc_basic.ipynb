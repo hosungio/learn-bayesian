{
 "cells": [
  {
   "cell_type": "code",
   "execution_count": 1,
   "metadata": {},
   "outputs": [],
   "source": [
    "# 참고\n",
    "# https://github.com/ExcelsiorCJH/Bayesian-with-Python/blob/master/Chap02-MorePyMC/Chap02-MorePyMC.ipynb"
   ]
  },
  {
   "cell_type": "code",
   "execution_count": 69,
   "metadata": {},
   "outputs": [
    {
     "data": {
      "text/plain": [
       "'5.0.1'"
      ]
     },
     "execution_count": 69,
     "metadata": {},
     "output_type": "execute_result"
    }
   ],
   "source": [
    "import pymc as pm\n",
    "from matplotlib import pyplot as plt\n",
    "\n",
    "pm.__version__"
   ]
  },
  {
   "cell_type": "code",
   "execution_count": 83,
   "metadata": {},
   "outputs": [],
   "source": [
    "# from typing import Dict\n",
    "# from typing import Any\n",
    "from pytensor.tensor.var import TensorVariable\n",
    "from pytensor.graph.basic import Apply\n",
    "\n",
    "def print_parents(t: TensorVariable) -> None:\n",
    "    parents = t.get_parents()\n",
    "    for p in parents:\n",
    "        print(p.op)\n",
    "        print(type(p.inputs[0]))\n",
    "        print(p.inputs[0].name)\n",
    "    print()"
   ]
  },
  {
   "cell_type": "code",
   "execution_count": 84,
   "metadata": {},
   "outputs": [
    {
     "name": "stdout",
     "output_type": "stream",
     "text": [
      "poisson_rv{0, (0,), int64, False}\n",
      "<class 'pytensor.tensor.random.var.RandomGeneratorSharedVariable'>\n",
      "None\n",
      "\n"
     ]
    }
   ],
   "source": [
    "from pytensor.tensor.var import TensorVariable\n",
    "from pytensor.graph.basic import Apply\n",
    "\n",
    "with pm.Model() as m:\n",
    "    lambda_ = pm.Exponential(\"poisson_param\", 1)\n",
    "    data_generator = pm.Poisson(\"data_generator\", lambda_)\n",
    "    data_plus_one = data_generator + 1\n",
    "\n",
    "    # print_parents(lambda_)\n",
    "    print_parents(data_generator)\n",
    "    # print(\"lambda_:\", type(lambda_), lambda_.get_parents(), lambda_.owner)\n",
    "    # print(\"data_generator:\", type(data_generator), data_generator.get_parents())\n",
    "    # print(\"data_plus_one:\", type(data_plus_one), data_plus_one.get_parents())\n",
    "\n",
    "    # print(lambda_.eval())\n",
    "    # print(data_generator.eval())\n",
    "    # print(data_plus_one.eval())\n",
    "\n",
    "    # # print(lambda_.owner)\n",
    "    # print(type(data_generator.owner))\n",
    "    # print(data_generator.owner)\n",
    "    # # print(data_plus_one.owner)"
   ]
  },
  {
   "cell_type": "code",
   "execution_count": null,
   "metadata": {},
   "outputs": [],
   "source": []
  },
  {
   "cell_type": "code",
   "execution_count": null,
   "metadata": {},
   "outputs": [],
   "source": []
  }
 ],
 "metadata": {
  "interpreter": {
   "hash": "9be8b11156a6c10e33c419d9d0d0602773fc3663771486e0ec4a7a50e79daf58"
  },
  "kernelspec": {
   "display_name": "Python 3.9.15 ('learn-bayesian')",
   "language": "python",
   "name": "python3"
  },
  "language_info": {
   "codemirror_mode": {
    "name": "ipython",
    "version": 3
   },
   "file_extension": ".py",
   "mimetype": "text/x-python",
   "name": "python",
   "nbconvert_exporter": "python",
   "pygments_lexer": "ipython3",
   "version": "3.9.15"
  },
  "orig_nbformat": 4
 },
 "nbformat": 4,
 "nbformat_minor": 2
}
