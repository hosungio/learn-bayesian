{
 "cells": [
  {
   "cell_type": "code",
   "execution_count": 1,
   "metadata": {},
   "outputs": [],
   "source": [
    "# 참고\n",
    "# http://infoso.kr/?p=3585"
   ]
  },
  {
   "cell_type": "code",
   "execution_count": 2,
   "metadata": {},
   "outputs": [],
   "source": [
    "import numpy as np\n",
    "from matplotlib import pyplot as plt\n",
    "from scipy.stats import uniform"
   ]
  },
  {
   "cell_type": "code",
   "execution_count": 11,
   "metadata": {},
   "outputs": [
    {
     "name": "stdout",
     "output_type": "stream",
     "text": [
      "40~45분 사이에 도착할 확률: 0.25\n",
      "35분 내에 도착할 확률: 0.0\n",
      "65분 후에 도착할 확률: 0.0\n"
     ]
    }
   ],
   "source": [
    "a = 40\n",
    "b = 60\n",
    "uni = uniform(loc=a, scale=(b-a))\n",
    "print(\"40~45분 사이에 도착할 확률:\", uni.pdf(x=[41, 42, 43, 44, 45]).sum())\n",
    "print(\"35분 내에 도착할 확률:\", uni.pdf(x=35))\n",
    "print(\"65분 후에 도착할 확률:\", uni.pdf(x=35))"
   ]
  },
  {
   "cell_type": "code",
   "execution_count": 15,
   "metadata": {},
   "outputs": [
    {
     "name": "stdout",
     "output_type": "stream",
     "text": [
      "P(x<15): 0.5\n",
      "P(12<=x<=18): 0.6000000000000001\n",
      "E(X): 15.0 15.0\n",
      "Var(X): 8.333333333333332\n"
     ]
    }
   ],
   "source": [
    "# 1\n",
    "a = 10\n",
    "b = 20\n",
    "uni = uniform(loc=a, scale=(b-a))\n",
    "p_less_15 = uni.cdf(x=15)\n",
    "print(\"P(x<15):\", p_less_15)\n",
    "p_between_12_and_18 = uni.cdf(x=18) - uni.cdf(x=12)\n",
    "print(\"P(12<=x<=18):\", p_between_12_and_18)\n",
    "print(\"E(X):\", uni.mean(), uni.expect())\n",
    "print(\"Var(X):\", uni.var())"
   ]
  },
  {
   "cell_type": "code",
   "execution_count": 17,
   "metadata": {},
   "outputs": [
    {
     "name": "stdout",
     "output_type": "stream",
     "text": [
      "0.25와 0.75사이의 무작위수를 생성할 확률: 0.5\n",
      "0.3보다 작거나 같은 무작위수를 생성할 확률: 0.3\n",
      "0.6보다 큰 무작위수를 생성할 확률: 0.4\n"
     ]
    },
    {
     "data": {
      "text/plain": [
       "(0.5149687970377594, 0.2986780369903753)"
      ]
     },
     "execution_count": 17,
     "metadata": {},
     "output_type": "execute_result"
    }
   ],
   "source": [
    "# 2\n",
    "a = 0\n",
    "b = 1\n",
    "uni = uniform(loc=a, scale=(b-a))\n",
    "print(\"0.25와 0.75사이의 무작위수를 생성할 확률:\", uni.cdf(0.75) - uni.cdf(0.25))\n",
    "print(\"0.3보다 작거나 같은 무작위수를 생성할 확률:\", uni.cdf(0.3))\n",
    "print(\"0.6보다 큰 무작위수를 생성할 확률:\", 1 - uni.cdf(0.6))\n",
    "samples = uni.rvs(size=50)\n",
    "samples.mean(), samples.std()"
   ]
  },
  {
   "cell_type": "code",
   "execution_count": 23,
   "metadata": {},
   "outputs": [
    {
     "name": "stdout",
     "output_type": "stream",
     "text": [
      "100달러에서 200달러 사이의 재량지출을 가질 확률: 0.625\n",
      "150달러 이상의 재량 지출을 가질 확률: 0.4125\n",
      "80달러 이하의 재량 지출을 가질 확률: 0.15\n"
     ]
    }
   ],
   "source": [
    "# 3\n",
    "a = 56\n",
    "b = 216\n",
    "uni = uniform(loc=a, scale=(b-a))\n",
    "print(\"100달러에서 200달러 사이의 재량지출을 가질 확률:\", uni.cdf(200) - uni.cdf(100))\n",
    "print(\"150달러 이상의 재량 지출을 가질 확률:\", 1 - uni.cdf(150))\n",
    "print(\"80달러 이하의 재량 지출을 가질 확률:\", uni.cdf(80))"
   ]
  },
  {
   "cell_type": "code",
   "execution_count": null,
   "metadata": {},
   "outputs": [],
   "source": []
  }
 ],
 "metadata": {
  "interpreter": {
   "hash": "9be8b11156a6c10e33c419d9d0d0602773fc3663771486e0ec4a7a50e79daf58"
  },
  "kernelspec": {
   "display_name": "Python 3.9.15 ('learn-bayesian')",
   "language": "python",
   "name": "python3"
  },
  "language_info": {
   "codemirror_mode": {
    "name": "ipython",
    "version": 3
   },
   "file_extension": ".py",
   "mimetype": "text/x-python",
   "name": "python",
   "nbconvert_exporter": "python",
   "pygments_lexer": "ipython3",
   "version": "3.9.15"
  },
  "orig_nbformat": 4
 },
 "nbformat": 4,
 "nbformat_minor": 2
}
