{
 "cells": [
  {
   "cell_type": "code",
   "execution_count": 1,
   "metadata": {},
   "outputs": [],
   "source": [
    "# 참고\n",
    "# http://infoso.kr/?p=3598\n",
    "# https://docs.scipy.org/doc/scipy/reference/generated/scipy.stats.expon.html"
   ]
  },
  {
   "cell_type": "code",
   "execution_count": 2,
   "metadata": {},
   "outputs": [],
   "source": [
    "import numpy as np\n",
    "from matplotlib import pyplot as plt\n",
    "from scipy.stats import expon"
   ]
  },
  {
   "cell_type": "code",
   "execution_count": 3,
   "metadata": {},
   "outputs": [
    {
     "name": "stdout",
     "output_type": "stream",
     "text": [
      "전화가 걸려오는 평균 시간 간격(분단위): 37.5\n",
      "전화가 걸려오는 간격이 한 시간 이내일 확률: 0.7981034820053446\n",
      "전화가 걸려오는 간격이 30분 이내일 확률: 0.5506710358827784\n",
      "전화가 걸려오는 간격이 5분이상, 20분이내일 확률: 0.28852709953291567\n"
     ]
    }
   ],
   "source": [
    "# 1\n",
    "# A common parameterization for expon is in terms of the rate parameter lambda, \n",
    "# such that pdf = lambda * exp(-lambda * x). \n",
    "# This parameterization corresponds to using scale = 1 / lambda.\n",
    "\n",
    "la = 1.6 # 한 시간 당 평균 1.6번\n",
    "scale = 1 / la\n",
    "exp = expon(scale=scale)\n",
    "print(\"전화가 걸려오는 평균 시간 간격(분단위):\", exp.mean() * 60)\n",
    "print(\"전화가 걸려오는 간격이 한 시간 이내일 확률:\", exp.cdf(1))\n",
    "print(\"전화가 걸려오는 간격이 30분 이내일 확률:\", exp.cdf(30/60))\n",
    "print(\"전화가 걸려오는 간격이 5분이상, 20분이내일 확률:\", exp.cdf(20/60) - exp.cdf(5/60))"
   ]
  },
  {
   "cell_type": "code",
   "execution_count": 4,
   "metadata": {},
   "outputs": [
    {
     "name": "stdout",
     "output_type": "stream",
     "text": [
      "자동차가 들어오는 시간 간격이 5분 이하일 확률: 0.5654017914929217\n",
      "자동차가 들어오는 시간 간격이 5분 이하일 확률: 0.5654017914929218\n"
     ]
    }
   ],
   "source": [
    "# 2\n",
    "la = 10 # 한 시간에 평균 10대\n",
    "scale = 1 / la\n",
    "exp = expon(scale=scale)\n",
    "print(\"자동차가 들어오는 시간 간격이 5분 이하일 확률:\", exp.cdf(5/60))\n",
    "la2 = 10 / 60 # 1분에 들어오는 평균\n",
    "scale2 = 1 / la2\n",
    "exp2 = expon(scale=scale2)\n",
    "print(\"자동차가 들어오는 시간 간격이 5분 이하일 확률:\", exp2.cdf(5))"
   ]
  },
  {
   "cell_type": "code",
   "execution_count": 5,
   "metadata": {},
   "outputs": [
    {
     "name": "stdout",
     "output_type": "stream",
     "text": [
      "lambda: 0.08333333333333333\n"
     ]
    },
    {
     "data": {
      "image/png": "[encoded data removed]",
      "text/plain": [
       "<Figure size 400x300 with 1 Axes>"
      ]
     },
     "metadata": {},
     "output_type": "display_data"
    },
    {
     "name": "stdout",
     "output_type": "stream",
     "text": [
      "0.6321205588285577\n",
      "0.3934693402873666\n",
      "0.08208499862389884\n"
     ]
    }
   ],
   "source": [
    "# 3\n",
    "# mu = 1 / lambda\n",
    "# scale = 1/ lambda\n",
    "mu = 12\n",
    "la = 1 / mu\n",
    "print(\"lambda:\", la)\n",
    "exp = expon(scale=12)\n",
    "xs = np.linspace(0, 60, 60)\n",
    "ys = exp.pdf(x=xs)\n",
    "plt.figure(figsize=(4,3))\n",
    "plt.plot(xs, ys)\n",
    "plt.show()\n",
    "print(exp.cdf(12))\n",
    "print(exp.cdf(6))\n",
    "print(1 - exp.cdf(30))"
   ]
  },
  {
   "cell_type": "code",
   "execution_count": 6,
   "metadata": {},
   "outputs": [
    {
     "name": "stdout",
     "output_type": "stream",
     "text": [
      "0.3934693402873666\n",
      "0.2386512185411911\n",
      "0.1353352832366127\n"
     ]
    }
   ],
   "source": [
    "# 4\n",
    "mu = 2 # 평균 2시간\n",
    "exp = expon(scale=2)\n",
    "print(exp.cdf(1))\n",
    "print(exp.cdf(2)- exp.cdf(1))\n",
    "print(1 - exp.cdf(4))"
   ]
  },
  {
   "cell_type": "code",
   "execution_count": 36,
   "metadata": {},
   "outputs": [
    {
     "name": "stdout",
     "output_type": "stream",
     "text": [
      "0.5506710358827784\n",
      "0.3011942119122022\n",
      "0.6321205588285577\n"
     ]
    }
   ],
   "source": [
    "# 5\n",
    "mu = 25\n",
    "exp = expon(scale=25)\n",
    "print(exp.cdf(20))\n",
    "print(1 - exp.cdf(30))\n",
    "print(exp.cdf(15 + 10))"
   ]
  },
  {
   "cell_type": "code",
   "execution_count": null,
   "metadata": {},
   "outputs": [],
   "source": []
  }
 ],
 "metadata": {
  "interpreter": {
   "hash": "9be8b11156a6c10e33c419d9d0d0602773fc3663771486e0ec4a7a50e79daf58"
  },
  "kernelspec": {
   "display_name": "Python 3.9.15 ('learn-bayesian')",
   "language": "python",
   "name": "python3"
  },
  "language_info": {
   "codemirror_mode": {
    "name": "ipython",
    "version": 3
   },
   "file_extension": ".py",
   "mimetype": "text/x-python",
   "name": "python",
   "nbconvert_exporter": "python",
   "pygments_lexer": "ipython3",
   "version": "3.9.15"
  },
  "orig_nbformat": 4
 },
 "nbformat": 4,
 "nbformat_minor": 2
}
