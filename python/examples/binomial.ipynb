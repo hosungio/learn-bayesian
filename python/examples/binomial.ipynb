{
 "cells": [
  {
   "cell_type": "code",
   "execution_count": 1,
   "metadata": {},
   "outputs": [],
   "source": [
    "# 참고\n",
    "# http://infoso.kr/?p=3529"
   ]
  },
  {
   "cell_type": "code",
   "execution_count": 2,
   "metadata": {},
   "outputs": [],
   "source": [
    "import numpy as np\n",
    "from matplotlib import pyplot as plt\n",
    "from scipy.stats import binom\n",
    "from scipy.special import factorial\n"
   ]
  },
  {
   "cell_type": "code",
   "execution_count": 8,
   "metadata": {},
   "outputs": [],
   "source": [
    "def naive_pmf(k: int, n: int, p: float) -> float:\n",
    "    coef = factorial(n) / (factorial(k) * factorial(n-k))\n",
    "    prob = coef * (p**k) * ((1-p)**(n-k))\n",
    "    return prob\n",
    "\n",
    "\n",
    "def naive_expectation(n: int, p: float) -> float:\n",
    "    e = n * p\n",
    "    return e\n",
    "\n",
    "def naive_var(n: int, p: float) -> float:\n",
    "    var = n * p * (1-p)\n",
    "    return var\n"
   ]
  },
  {
   "cell_type": "code",
   "execution_count": 9,
   "metadata": {},
   "outputs": [
    {
     "name": "stdout",
     "output_type": "stream",
     "text": [
      "y1: 0.16075102880658423\n",
      "y2: 0.1607510288065844\n",
      "y3: 0.165246443\n"
     ]
    }
   ],
   "source": [
    "# ex1\n",
    "n = 5\n",
    "p = 1/6\n",
    "y1 = binom.pmf(k=2, n=n, p=p)\n",
    "y2 = naive_pmf(k=2, n=n, p=p)\n",
    "print(\"y1:\", y1)\n",
    "print(\"y2:\", y2)\n",
    "y3 = naive_pmf(k=2, n=n, p=round(p, 2))\n",
    "print(\"y3:\", y3)"
   ]
  },
  {
   "cell_type": "code",
   "execution_count": 10,
   "metadata": {},
   "outputs": [
    {
     "name": "stdout",
     "output_type": "stream",
     "text": [
      "y1: 0.07463479852001963\n",
      "y2: 0.07463479852001952\n"
     ]
    }
   ],
   "source": [
    "# ex2\n",
    "n = 10\n",
    "p = 0.05\n",
    "y1 = binom.pmf(k=2, n=n, p=p)\n",
    "y2 = naive_pmf(k=2, n=n, p=p)\n",
    "print(\"y1:\", y1)\n",
    "print(\"y2:\", y2)"
   ]
  },
  {
   "cell_type": "code",
   "execution_count": 11,
   "metadata": {},
   "outputs": [
    {
     "name": "stdout",
     "output_type": "stream",
     "text": [
      "y1: 0.08808038399999985\n",
      "y2: 0.08808038399999996\n"
     ]
    }
   ],
   "source": [
    "# ex3\n",
    "n = 10\n",
    "p = 0.8\n",
    "y1 = binom.pmf(k=6, n=n, p=p)\n",
    "y2 = naive_pmf(k=6, n=n, p=p)\n",
    "print(\"y1:\", y1)\n",
    "print(\"y2:\", y2)"
   ]
  },
  {
   "cell_type": "code",
   "execution_count": 13,
   "metadata": {},
   "outputs": [
    {
     "name": "stdout",
     "output_type": "stream",
     "text": [
      "E1: 4.2\n",
      "E2: 4.2\n"
     ]
    }
   ],
   "source": [
    "# ex4\n",
    "n = 7\n",
    "p = 0.6\n",
    "e1 = binom.mean(n=n, p=p)\n",
    "e2 = naive_expectation(n=n, p=p)\n",
    "print(\"E1:\", e1)\n",
    "print(\"E2:\", e2)"
   ]
  },
  {
   "cell_type": "code",
   "execution_count": 14,
   "metadata": {},
   "outputs": [
    {
     "name": "stdout",
     "output_type": "stream",
     "text": [
      "y1: 0.4095999999999999\n",
      "y2: 0.4096000000000001\n"
     ]
    }
   ],
   "source": [
    "# ex5\n",
    "n = 5\n",
    "p = 0.2\n",
    "y1 = binom.pmf(k=1, n=n, p=p)\n",
    "y2 = naive_pmf(k=1, n=n, p=p)\n",
    "print(\"y1:\", y1)\n",
    "print(\"y2:\", y2)"
   ]
  },
  {
   "cell_type": "code",
   "execution_count": null,
   "metadata": {},
   "outputs": [],
   "source": []
  }
 ],
 "metadata": {
  "interpreter": {
   "hash": "9be8b11156a6c10e33c419d9d0d0602773fc3663771486e0ec4a7a50e79daf58"
  },
  "kernelspec": {
   "display_name": "Python 3.9.15 ('learn-bayesian')",
   "language": "python",
   "name": "python3"
  },
  "language_info": {
   "codemirror_mode": {
    "name": "ipython",
    "version": 3
   },
   "file_extension": ".py",
   "mimetype": "text/x-python",
   "name": "python",
   "nbconvert_exporter": "python",
   "pygments_lexer": "ipython3",
   "version": "3.9.15"
  },
  "orig_nbformat": 4
 },
 "nbformat": 4,
 "nbformat_minor": 2
}
