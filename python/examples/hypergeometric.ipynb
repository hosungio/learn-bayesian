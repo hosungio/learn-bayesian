{
 "cells": [
  {
   "cell_type": "code",
   "execution_count": 1,
   "metadata": {},
   "outputs": [],
   "source": [
    "# 참고\n",
    "# http://infoso.kr/?p=3571"
   ]
  },
  {
   "cell_type": "code",
   "execution_count": 2,
   "metadata": {},
   "outputs": [],
   "source": [
    "import numpy as np\n",
    "from matplotlib import pyplot as plt\n",
    "from scipy.stats import hypergeom"
   ]
  },
  {
   "cell_type": "code",
   "execution_count": 4,
   "metadata": {},
   "outputs": [
    {
     "name": "stdout",
     "output_type": "stream",
     "text": [
      "3개의 퓨즈 중 불량품이 1개 들어 있을 확률: 0.47727272727272735\n"
     ]
    }
   ],
   "source": [
    "# 1\n",
    "poplulation_size = 12\n",
    "num_of_success_state = 5\n",
    "num_of_draw = 3\n",
    "p = hypergeom.pmf(k=1, M=poplulation_size, n=num_of_success_state, N=num_of_draw)\n",
    "print(\"3개의 퓨즈 중 불량품이 1개 들어 있을 확률:\", p)"
   ]
  },
  {
   "cell_type": "code",
   "execution_count": 7,
   "metadata": {},
   "outputs": [
    {
     "name": "stdout",
     "output_type": "stream",
     "text": [
      "5장의 카드를 뽑을 때, 4장의 붉은 카드가 뽑힐 확률: 0.013544891640866873\n"
     ]
    }
   ],
   "source": [
    "# 2\n",
    "M = 20\n",
    "n = 6\n",
    "N = 5\n",
    "p = hypergeom.pmf(k=4, M=M, n=n, N=N)\n",
    "print(\"5장의 카드를 뽑을 때, 4장의 붉은 카드가 뽑힐 확률:\", p)"
   ]
  },
  {
   "cell_type": "code",
   "execution_count": 9,
   "metadata": {},
   "outputs": [
    {
     "name": "stdout",
     "output_type": "stream",
     "text": [
      "10명을 무작위로 뽑을 때, 7명의 여성 유권자가 뽑힐 확률: 0.13039642705767357\n"
     ]
    }
   ],
   "source": [
    "# 3\n",
    "M = 101 + 95\n",
    "n = 101\n",
    "N = 10\n",
    "p = hypergeom.pmf(k=7, M=M, n=n, N=N)\n",
    "print(\"10명을 무작위로 뽑을 때, 7명의 여성 유권자가 뽑힐 확률:\", p)"
   ]
  },
  {
   "cell_type": "code",
   "execution_count": 12,
   "metadata": {},
   "outputs": [
    {
     "name": "stdout",
     "output_type": "stream",
     "text": [
      "2명이 온라인 쇼핑을 좋아할 확률: 0.5249999999999999\n",
      "2명이 이상이 온라인 쇼핑을 좋아할 확률: 0.8166666666666667\n"
     ]
    }
   ],
   "source": [
    "# 4\n",
    "M = 7 + 3\n",
    "n = 7\n",
    "N = 3\n",
    "hyg = hypergeom(M=M, n=n, N=3)\n",
    "print(\"2명이 온라인 쇼핑을 좋아할 확률:\", hyg.pmf(k=2))\n",
    "print(\"2명이 이상이 온라인 쇼핑을 좋아할 확률:\", 1 - hyg.cdf(x=1))"
   ]
  },
  {
   "cell_type": "code",
   "execution_count": 14,
   "metadata": {},
   "outputs": [
    {
     "name": "stdout",
     "output_type": "stream",
     "text": [
      "파주에서 근무하는 종업원이 한 명도 뽑히지 않을 확률: 0.011243072632748754\n",
      "파주에서 근무하는 종업원이 한 명 뽑힐 확률: 0.07253595246934683\n",
      "파주에서 근무하는 종업원이 두 명 이상 뽑힐 확률: 0.9162209748979044\n"
     ]
    }
   ],
   "source": [
    "# 5\n",
    "M = 40 + 20\n",
    "n = 20\n",
    "N = 10\n",
    "# 5-1\n",
    "p = hypergeom.pmf(k=0, M=M, n=n, N=10)\n",
    "print(\"파주에서 근무하는 종업원이 한 명도 뽑히지 않을 확률:\", p)\n",
    "# 5-2\n",
    "p = hypergeom.pmf(k=1, M=M, n=n, N=10)\n",
    "print(\"파주에서 근무하는 종업원이 한 명 뽑힐 확률:\", p)\n",
    "# 5-3\n",
    "p = 1 - hypergeom.cdf(k=1, M=M, n=n, N=10)\n",
    "print(\"파주에서 근무하는 종업원이 두 명 이상 뽑힐 확률:\", p)"
   ]
  },
  {
   "cell_type": "code",
   "execution_count": null,
   "metadata": {},
   "outputs": [],
   "source": []
  }
 ],
 "metadata": {
  "interpreter": {
   "hash": "9be8b11156a6c10e33c419d9d0d0602773fc3663771486e0ec4a7a50e79daf58"
  },
  "kernelspec": {
   "display_name": "Python 3.9.15 ('learn-bayesian')",
   "language": "python",
   "name": "python3"
  },
  "language_info": {
   "codemirror_mode": {
    "name": "ipython",
    "version": 3
   },
   "file_extension": ".py",
   "mimetype": "text/x-python",
   "name": "python",
   "nbconvert_exporter": "python",
   "pygments_lexer": "ipython3",
   "version": "3.9.15"
  },
  "orig_nbformat": 4
 },
 "nbformat": 4,
 "nbformat_minor": 2
}
