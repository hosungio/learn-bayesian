{
 "cells": [
  {
   "cell_type": "code",
   "execution_count": 3,
   "metadata": {},
   "outputs": [],
   "source": [
    "# 참고\n",
    "# http://infoso.kr/?p=3529"
   ]
  },
  {
   "cell_type": "code",
   "execution_count": 4,
   "metadata": {},
   "outputs": [],
   "source": [
    "import numpy as np\n",
    "from matplotlib import pyplot as plt\n",
    "from scipy.stats import poisson\n"
   ]
  },
  {
   "cell_type": "code",
   "execution_count": 20,
   "metadata": {},
   "outputs": [
    {
     "name": "stdout",
     "output_type": "stream",
     "text": [
      "15분 동안에 5대가 도착할 확률: 0.03783327480207079\n"
     ]
    }
   ],
   "source": [
    "# 1\n",
    "la = 10\n",
    "x = 5\n",
    "print(\"15분 동안에 5대가 도착할 확률:\", poisson.pmf(k=x, mu=la))\n",
    "# xs = np.arange(start=0, stop=21)\n",
    "# ys = poisson.pmf(k=xs, mu=la)\n",
    "# plt.figure(figsize=(4,2))\n",
    "# plt.plot(xs, ys)\n",
    "# plt.show()"
   ]
  },
  {
   "cell_type": "code",
   "execution_count": 22,
   "metadata": {},
   "outputs": [
    {
     "name": "stdout",
     "output_type": "stream",
     "text": [
      "1만명 중에 에이즈에 전염된 환자가 1명일 확률: 0.07326255555493673\n"
     ]
    }
   ],
   "source": [
    "# 2\n",
    "la = 10000 * (0.04  / 100)\n",
    "x = 1\n",
    "print(\"1만명 중에 에이즈에 전염된 환자가 1명일 확률:\", poisson.pmf(k=1, mu=la))"
   ]
  },
  {
   "cell_type": "code",
   "execution_count": 24,
   "metadata": {},
   "outputs": [
    {
     "name": "stdout",
     "output_type": "stream",
     "text": [
      "길이 3km에 파손 지점이 없을 확률: 0.04978706836786394\n"
     ]
    }
   ],
   "source": [
    "# 3\n",
    "la = 1 * 3\n",
    "x = 0\n",
    "p = poisson.pmf(k=x, mu=la)\n",
    "print(\"길이 3km에 파손 지점이 없을 확률:\", p)"
   ]
  },
  {
   "cell_type": "code",
   "execution_count": 26,
   "metadata": {},
   "outputs": [
    {
     "name": "stdout",
     "output_type": "stream",
     "text": [
      "하루에 토네이도가 평균 몇 회 발생하는가? 0.6\n",
      "하루에 토네이도가 한 번도 발생하지 않은 확률: 0.5488116360940265\n",
      "하루에 토네이도가 한 번 발생할 확률: 0.3292869816564159\n",
      "하루에 토네이도가 두 번 이상 발생할 확률: 0.1219013822495576\n"
     ]
    }
   ],
   "source": [
    "# 4\n",
    "la = 18 / 30\n",
    "print(\"하루에 토네이도가 평균 몇 회 발생하는가?\", la)\n",
    "poi = poisson(mu=la)\n",
    "p0 = poi.pmf(k=0)\n",
    "print(\"하루에 토네이도가 한 번도 발생하지 않은 확률:\", p0)\n",
    "p1 = poi.pmf(k=1)\n",
    "print(\"하루에 토네이도가 한 번 발생할 확률:\", p1)\n",
    "p_over_2 = 1 - poi.cdf(x=1)\n",
    "print(\"하루에 토네이도가 두 번 이상 발생할 확률:\", p_over_2)"
   ]
  },
  {
   "cell_type": "code",
   "execution_count": 27,
   "metadata": {},
   "outputs": [
    {
     "name": "stdout",
     "output_type": "stream",
     "text": [
      "5분 동안 전화가 2회 걸려올 확률: 0.22404180765538775\n",
      "15분 동안 전화가 5회 걸려올 확률: 0.06072687934595294\n"
     ]
    }
   ],
   "source": [
    "# 5\n",
    "la5 = 36 / (60 / 5)\n",
    "print(\"5분 동안 전화가 2회 걸려올 확률:\", poisson.pmf(k=2, mu=la5))\n",
    "la15 = 36 / (60 / 15)\n",
    "print(\"15분 동안 전화가 5회 걸려올 확률:\", poisson.pmf(k=5, mu=la15))"
   ]
  },
  {
   "cell_type": "code",
   "execution_count": null,
   "metadata": {},
   "outputs": [],
   "source": []
  }
 ],
 "metadata": {
  "interpreter": {
   "hash": "9be8b11156a6c10e33c419d9d0d0602773fc3663771486e0ec4a7a50e79daf58"
  },
  "kernelspec": {
   "display_name": "Python 3.9.15 ('learn-bayesian')",
   "language": "python",
   "name": "python3"
  },
  "language_info": {
   "codemirror_mode": {
    "name": "ipython",
    "version": 3
   },
   "file_extension": ".py",
   "mimetype": "text/x-python",
   "name": "python",
   "nbconvert_exporter": "python",
   "pygments_lexer": "ipython3",
   "version": "3.9.15"
  },
  "orig_nbformat": 4
 },
 "nbformat": 4,
 "nbformat_minor": 2
}
